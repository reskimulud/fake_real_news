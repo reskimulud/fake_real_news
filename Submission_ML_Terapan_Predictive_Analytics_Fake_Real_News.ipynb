{
  "nbformat": 4,
  "nbformat_minor": 0,
  "metadata": {
    "colab": {
      "name": "Submission_ML_Terapan_Predictive_Analytics_Fake_Real_News",
      "provenance": [],
      "mount_file_id": "1g_Cs5zFNcazEfrvNR2_yvdAVcrHthymk",
      "authorship_tag": "ABX9TyNl0sqLnZ583sk5ZxwW97km",
      "include_colab_link": true
    },
    "kernelspec": {
      "name": "python3",
      "display_name": "Python 3"
    },
    "language_info": {
      "name": "python"
    }
  },
  "cells": [
    {
      "cell_type": "markdown",
      "metadata": {
        "id": "view-in-github",
        "colab_type": "text"
      },
      "source": [
        "<a href=\"https://colab.research.google.com/github/reskimulud/fake_real_news/blob/master/Submission_ML_Terapan_Predictive_Analytics_Fake_Real_News.ipynb\" target=\"_parent\"><img src=\"https://colab.research.google.com/assets/colab-badge.svg\" alt=\"Open In Colab\"/></a>"
      ]
    },
    {
      "cell_type": "code",
      "execution_count": 1,
      "metadata": {
        "id": "jc0Qze1b94yG"
      },
      "outputs": [],
      "source": [
        "# import package/library\n",
        "import numpy as np\n",
        "import pandas as pd\n",
        "import seaborn as sns\n",
        "import matplotlib.pyplot as plt\n",
        "%matplotlib inline\n",
        "\n",
        "from sklearn.preprocessing import OneHotEncoder, StandardScaler\n",
        "from sklearn.decomposition import PCA\n",
        "from sklearn.model_selection import train_test_split\n",
        "\n",
        "from wordcloud import WordCloud\n",
        "from sklearn.feature_extraction.text import CountVectorizer, TfidfTransformer, TfidfVectorizer\n",
        "from sklearn import svm\n",
        "from sklearn.metrics import classification_report"
      ]
    }
  ]
}